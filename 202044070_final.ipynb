{
  "nbformat": 4,
  "nbformat_minor": 0,
  "metadata": {
    "colab": {
      "provenance": []
    },
    "kernelspec": {
      "name": "python3",
      "display_name": "Python 3"
    },
    "language_info": {
      "name": "python"
    }
  },
  "cells": [
    {
      "cell_type": "markdown",
      "source": [
        "# 주가 예측 프로젝트"
      ],
      "metadata": {
        "id": "Z1LYDVKx4zoW"
      }
    },
    {
      "cell_type": "markdown",
      "source": [
        "###finance-datareader 라이브러리를 통한 데이터 수집"
      ],
      "metadata": {
        "id": "7jqUppD87T4C"
      }
    },
    {
      "cell_type": "markdown",
      "source": [
        "finance-datareader 설치"
      ],
      "metadata": {
        "id": "8PYho2Rd4ynv"
      }
    },
    {
      "cell_type": "code",
      "execution_count": 125,
      "metadata": {
        "colab": {
          "base_uri": "https://localhost:8080/"
        },
        "id": "QiPZ2ML_78RV",
        "outputId": "4fa4bebd-bf5d-4e70-983c-39ae9f4a5852"
      },
      "outputs": [
        {
          "output_type": "stream",
          "name": "stdout",
          "text": [
            "Looking in indexes: https://pypi.org/simple, https://us-python.pkg.dev/colab-wheels/public/simple/\n",
            "Requirement already satisfied: finance-datareader in /usr/local/lib/python3.8/dist-packages (0.9.50)\n",
            "Requirement already satisfied: lxml in /usr/local/lib/python3.8/dist-packages (from finance-datareader) (4.9.1)\n",
            "Requirement already satisfied: requests>=2.3.0 in /usr/local/lib/python3.8/dist-packages (from finance-datareader) (2.23.0)\n",
            "Requirement already satisfied: requests-file in /usr/local/lib/python3.8/dist-packages (from finance-datareader) (1.5.1)\n",
            "Requirement already satisfied: pandas>=0.19.2 in /usr/local/lib/python3.8/dist-packages (from finance-datareader) (1.3.5)\n",
            "Requirement already satisfied: tqdm in /usr/local/lib/python3.8/dist-packages (from finance-datareader) (4.64.1)\n",
            "Requirement already satisfied: python-dateutil>=2.7.3 in /usr/local/lib/python3.8/dist-packages (from pandas>=0.19.2->finance-datareader) (2.8.2)\n",
            "Requirement already satisfied: pytz>=2017.3 in /usr/local/lib/python3.8/dist-packages (from pandas>=0.19.2->finance-datareader) (2022.6)\n",
            "Requirement already satisfied: numpy>=1.17.3 in /usr/local/lib/python3.8/dist-packages (from pandas>=0.19.2->finance-datareader) (1.21.6)\n",
            "Requirement already satisfied: six>=1.5 in /usr/local/lib/python3.8/dist-packages (from python-dateutil>=2.7.3->pandas>=0.19.2->finance-datareader) (1.15.0)\n",
            "Requirement already satisfied: urllib3!=1.25.0,!=1.25.1,<1.26,>=1.21.1 in /usr/local/lib/python3.8/dist-packages (from requests>=2.3.0->finance-datareader) (1.24.3)\n",
            "Requirement already satisfied: idna<3,>=2.5 in /usr/local/lib/python3.8/dist-packages (from requests>=2.3.0->finance-datareader) (2.10)\n",
            "Requirement already satisfied: chardet<4,>=3.0.2 in /usr/local/lib/python3.8/dist-packages (from requests>=2.3.0->finance-datareader) (3.0.4)\n",
            "Requirement already satisfied: certifi>=2017.4.17 in /usr/local/lib/python3.8/dist-packages (from requests>=2.3.0->finance-datareader) (2022.9.24)\n"
          ]
        }
      ],
      "source": [
        "!pip install finance-datareader"
      ]
    },
    {
      "cell_type": "markdown",
      "source": [
        "필요한 라이브러리 import"
      ],
      "metadata": {
        "id": "OAN3DfZo6Uyi"
      }
    },
    {
      "cell_type": "code",
      "source": [
        "import FinanceDataReader as fdr\n",
        "import numpy as np\n",
        "import matplotlib.pyplot as plt"
      ],
      "metadata": {
        "id": "fq27YBCi81Oe"
      },
      "execution_count": 126,
      "outputs": []
    },
    {
      "cell_type": "markdown",
      "source": [
        "카카오 주식 코드 = 035720"
      ],
      "metadata": {
        "id": "CXVHDmyw6nKF"
      }
    },
    {
      "cell_type": "markdown",
      "source": [
        "2020년 1월 1일부터 2022년 12월 10일까지의 데이터 다운로드"
      ],
      "metadata": {
        "id": "7Kqdg08f7DF1"
      }
    },
    {
      "cell_type": "code",
      "source": [
        "df = fdr.DataReader('035720', '2020-01-01', '2022-12-10')\n",
        "df.head()"
      ],
      "metadata": {
        "id": "GoVatkgk786U",
        "colab": {
          "base_uri": "https://localhost:8080/",
          "height": 238
        },
        "outputId": "5021ac59-d4d8-4e92-a984-7eb054fe33b9"
      },
      "execution_count": 127,
      "outputs": [
        {
          "output_type": "execute_result",
          "data": {
            "text/plain": [
              "             Open   High    Low  Close  Volume    Change\n",
              "Date                                                    \n",
              "2020-01-02  30909  31010  30508  30609  241047 -0.006524\n",
              "2020-01-03  30810  31111  30308  30609  314848  0.000000\n",
              "2020-01-06  30206  31109  30106  31010  393715  0.013101\n",
              "2020-01-07  31110  32113  31009  32114  840186  0.035601\n",
              "2020-01-08  31813  32516  31412  32014  851619 -0.003114"
            ],
            "text/html": [
              "\n",
              "  <div id=\"df-9f6719b7-d412-4f97-b33a-7cee6e25c944\">\n",
              "    <div class=\"colab-df-container\">\n",
              "      <div>\n",
              "<style scoped>\n",
              "    .dataframe tbody tr th:only-of-type {\n",
              "        vertical-align: middle;\n",
              "    }\n",
              "\n",
              "    .dataframe tbody tr th {\n",
              "        vertical-align: top;\n",
              "    }\n",
              "\n",
              "    .dataframe thead th {\n",
              "        text-align: right;\n",
              "    }\n",
              "</style>\n",
              "<table border=\"1\" class=\"dataframe\">\n",
              "  <thead>\n",
              "    <tr style=\"text-align: right;\">\n",
              "      <th></th>\n",
              "      <th>Open</th>\n",
              "      <th>High</th>\n",
              "      <th>Low</th>\n",
              "      <th>Close</th>\n",
              "      <th>Volume</th>\n",
              "      <th>Change</th>\n",
              "    </tr>\n",
              "    <tr>\n",
              "      <th>Date</th>\n",
              "      <th></th>\n",
              "      <th></th>\n",
              "      <th></th>\n",
              "      <th></th>\n",
              "      <th></th>\n",
              "      <th></th>\n",
              "    </tr>\n",
              "  </thead>\n",
              "  <tbody>\n",
              "    <tr>\n",
              "      <th>2020-01-02</th>\n",
              "      <td>30909</td>\n",
              "      <td>31010</td>\n",
              "      <td>30508</td>\n",
              "      <td>30609</td>\n",
              "      <td>241047</td>\n",
              "      <td>-0.006524</td>\n",
              "    </tr>\n",
              "    <tr>\n",
              "      <th>2020-01-03</th>\n",
              "      <td>30810</td>\n",
              "      <td>31111</td>\n",
              "      <td>30308</td>\n",
              "      <td>30609</td>\n",
              "      <td>314848</td>\n",
              "      <td>0.000000</td>\n",
              "    </tr>\n",
              "    <tr>\n",
              "      <th>2020-01-06</th>\n",
              "      <td>30206</td>\n",
              "      <td>31109</td>\n",
              "      <td>30106</td>\n",
              "      <td>31010</td>\n",
              "      <td>393715</td>\n",
              "      <td>0.013101</td>\n",
              "    </tr>\n",
              "    <tr>\n",
              "      <th>2020-01-07</th>\n",
              "      <td>31110</td>\n",
              "      <td>32113</td>\n",
              "      <td>31009</td>\n",
              "      <td>32114</td>\n",
              "      <td>840186</td>\n",
              "      <td>0.035601</td>\n",
              "    </tr>\n",
              "    <tr>\n",
              "      <th>2020-01-08</th>\n",
              "      <td>31813</td>\n",
              "      <td>32516</td>\n",
              "      <td>31412</td>\n",
              "      <td>32014</td>\n",
              "      <td>851619</td>\n",
              "      <td>-0.003114</td>\n",
              "    </tr>\n",
              "  </tbody>\n",
              "</table>\n",
              "</div>\n",
              "      <button class=\"colab-df-convert\" onclick=\"convertToInteractive('df-9f6719b7-d412-4f97-b33a-7cee6e25c944')\"\n",
              "              title=\"Convert this dataframe to an interactive table.\"\n",
              "              style=\"display:none;\">\n",
              "        \n",
              "  <svg xmlns=\"http://www.w3.org/2000/svg\" height=\"24px\"viewBox=\"0 0 24 24\"\n",
              "       width=\"24px\">\n",
              "    <path d=\"M0 0h24v24H0V0z\" fill=\"none\"/>\n",
              "    <path d=\"M18.56 5.44l.94 2.06.94-2.06 2.06-.94-2.06-.94-.94-2.06-.94 2.06-2.06.94zm-11 1L8.5 8.5l.94-2.06 2.06-.94-2.06-.94L8.5 2.5l-.94 2.06-2.06.94zm10 10l.94 2.06.94-2.06 2.06-.94-2.06-.94-.94-2.06-.94 2.06-2.06.94z\"/><path d=\"M17.41 7.96l-1.37-1.37c-.4-.4-.92-.59-1.43-.59-.52 0-1.04.2-1.43.59L10.3 9.45l-7.72 7.72c-.78.78-.78 2.05 0 2.83L4 21.41c.39.39.9.59 1.41.59.51 0 1.02-.2 1.41-.59l7.78-7.78 2.81-2.81c.8-.78.8-2.07 0-2.86zM5.41 20L4 18.59l7.72-7.72 1.47 1.35L5.41 20z\"/>\n",
              "  </svg>\n",
              "      </button>\n",
              "      \n",
              "  <style>\n",
              "    .colab-df-container {\n",
              "      display:flex;\n",
              "      flex-wrap:wrap;\n",
              "      gap: 12px;\n",
              "    }\n",
              "\n",
              "    .colab-df-convert {\n",
              "      background-color: #E8F0FE;\n",
              "      border: none;\n",
              "      border-radius: 50%;\n",
              "      cursor: pointer;\n",
              "      display: none;\n",
              "      fill: #1967D2;\n",
              "      height: 32px;\n",
              "      padding: 0 0 0 0;\n",
              "      width: 32px;\n",
              "    }\n",
              "\n",
              "    .colab-df-convert:hover {\n",
              "      background-color: #E2EBFA;\n",
              "      box-shadow: 0px 1px 2px rgba(60, 64, 67, 0.3), 0px 1px 3px 1px rgba(60, 64, 67, 0.15);\n",
              "      fill: #174EA6;\n",
              "    }\n",
              "\n",
              "    [theme=dark] .colab-df-convert {\n",
              "      background-color: #3B4455;\n",
              "      fill: #D2E3FC;\n",
              "    }\n",
              "\n",
              "    [theme=dark] .colab-df-convert:hover {\n",
              "      background-color: #434B5C;\n",
              "      box-shadow: 0px 1px 3px 1px rgba(0, 0, 0, 0.15);\n",
              "      filter: drop-shadow(0px 1px 2px rgba(0, 0, 0, 0.3));\n",
              "      fill: #FFFFFF;\n",
              "    }\n",
              "  </style>\n",
              "\n",
              "      <script>\n",
              "        const buttonEl =\n",
              "          document.querySelector('#df-9f6719b7-d412-4f97-b33a-7cee6e25c944 button.colab-df-convert');\n",
              "        buttonEl.style.display =\n",
              "          google.colab.kernel.accessAllowed ? 'block' : 'none';\n",
              "\n",
              "        async function convertToInteractive(key) {\n",
              "          const element = document.querySelector('#df-9f6719b7-d412-4f97-b33a-7cee6e25c944');\n",
              "          const dataTable =\n",
              "            await google.colab.kernel.invokeFunction('convertToInteractive',\n",
              "                                                     [key], {});\n",
              "          if (!dataTable) return;\n",
              "\n",
              "          const docLinkHtml = 'Like what you see? Visit the ' +\n",
              "            '<a target=\"_blank\" href=https://colab.research.google.com/notebooks/data_table.ipynb>data table notebook</a>'\n",
              "            + ' to learn more about interactive tables.';\n",
              "          element.innerHTML = '';\n",
              "          dataTable['output_type'] = 'display_data';\n",
              "          await google.colab.output.renderOutput(dataTable, element);\n",
              "          const docLink = document.createElement('div');\n",
              "          docLink.innerHTML = docLinkHtml;\n",
              "          element.appendChild(docLink);\n",
              "        }\n",
              "      </script>\n",
              "    </div>\n",
              "  </div>\n",
              "  "
            ]
          },
          "metadata": {},
          "execution_count": 127
        }
      ]
    },
    {
      "cell_type": "code",
      "source": [
        "print(df.shape)"
      ],
      "metadata": {
        "colab": {
          "base_uri": "https://localhost:8080/"
        },
        "id": "uhara6iB9ELK",
        "outputId": "f101e6b3-68d6-42cf-9214-c2247335fcf5"
      },
      "execution_count": 128,
      "outputs": [
        {
          "output_type": "stream",
          "name": "stdout",
          "text": [
            "(728, 6)\n"
          ]
        }
      ]
    },
    {
      "cell_type": "markdown",
      "source": [
        "###데이터 전처리"
      ],
      "metadata": {
        "id": "-MmqGW3B7qeq"
      }
    },
    {
      "cell_type": "markdown",
      "source": [
        "데이터 값의 범위를 줄이기 위해 MinMaxScaler 사용"
      ],
      "metadata": {
        "id": "--8nqmeD8HP7"
      }
    },
    {
      "cell_type": "code",
      "source": [
        "def MinMaxScaler(data):\n",
        "    numerator = data - np.min(data, 0)\n",
        "    denominator = np.max(data, 0) - np.min(data, 0)\n",
        "    # 0으로 나누기 에러가 발생하지 않도록 매우 작은 값(1e-7)을 더해서 나눈다\n",
        "    return numerator / (denominator + 1e-7)"
      ],
      "metadata": {
        "id": "hubuQsfq9KtS"
      },
      "execution_count": 129,
      "outputs": []
    },
    {
      "cell_type": "code",
      "source": [
        "# Open - 시가, High - 고가, Low - 저가, Volume - 거래량, Close - 종가\n",
        "dfx = df[['Open','High','Low','Volume', 'Close']]\n",
        "dfx = MinMaxScaler(dfx)\n",
        "# 종가는 분리 -> 지도 학습에서 타겟 데이터로 사용하기 위함\n",
        "dfy = dfx[['Close']]\n",
        "dfx = dfx[['Open','High','Low','Volume']]\n",
        "dfx"
      ],
      "metadata": {
        "colab": {
          "base_uri": "https://localhost:8080/",
          "height": 455
        },
        "id": "bwNT5SdD9OG_",
        "outputId": "81101d74-bbfe-47ba-a698-5f3839bd4d10"
      },
      "execution_count": 130,
      "outputs": [
        {
          "output_type": "execute_result",
          "data": {
            "text/plain": [
              "                Open      High       Low    Volume\n",
              "Date                                              \n",
              "2020-01-02  0.179703  0.179249  0.189491  0.012757\n",
              "2020-01-03  0.179128  0.179832  0.188248  0.016663\n",
              "2020-01-06  0.175616  0.179821  0.186994  0.020837\n",
              "2020-01-07  0.180872  0.185624  0.192602  0.044466\n",
              "2020-01-08  0.184959  0.187954  0.195106  0.045071\n",
              "...              ...       ...       ...       ...\n",
              "2022-12-05  0.332558  0.341040  0.355280  0.108517\n",
              "2022-12-06  0.333140  0.334682  0.347826  0.073082\n",
              "2022-12-07  0.323837  0.327168  0.344099  0.053672\n",
              "2022-12-08  0.325000  0.324277  0.340994  0.072870\n",
              "2022-12-09  0.326163  0.336416  0.347826  0.126434\n",
              "\n",
              "[728 rows x 4 columns]"
            ],
            "text/html": [
              "\n",
              "  <div id=\"df-f4340656-96ac-4eb4-9636-cd29a6cbbe41\">\n",
              "    <div class=\"colab-df-container\">\n",
              "      <div>\n",
              "<style scoped>\n",
              "    .dataframe tbody tr th:only-of-type {\n",
              "        vertical-align: middle;\n",
              "    }\n",
              "\n",
              "    .dataframe tbody tr th {\n",
              "        vertical-align: top;\n",
              "    }\n",
              "\n",
              "    .dataframe thead th {\n",
              "        text-align: right;\n",
              "    }\n",
              "</style>\n",
              "<table border=\"1\" class=\"dataframe\">\n",
              "  <thead>\n",
              "    <tr style=\"text-align: right;\">\n",
              "      <th></th>\n",
              "      <th>Open</th>\n",
              "      <th>High</th>\n",
              "      <th>Low</th>\n",
              "      <th>Volume</th>\n",
              "    </tr>\n",
              "    <tr>\n",
              "      <th>Date</th>\n",
              "      <th></th>\n",
              "      <th></th>\n",
              "      <th></th>\n",
              "      <th></th>\n",
              "    </tr>\n",
              "  </thead>\n",
              "  <tbody>\n",
              "    <tr>\n",
              "      <th>2020-01-02</th>\n",
              "      <td>0.179703</td>\n",
              "      <td>0.179249</td>\n",
              "      <td>0.189491</td>\n",
              "      <td>0.012757</td>\n",
              "    </tr>\n",
              "    <tr>\n",
              "      <th>2020-01-03</th>\n",
              "      <td>0.179128</td>\n",
              "      <td>0.179832</td>\n",
              "      <td>0.188248</td>\n",
              "      <td>0.016663</td>\n",
              "    </tr>\n",
              "    <tr>\n",
              "      <th>2020-01-06</th>\n",
              "      <td>0.175616</td>\n",
              "      <td>0.179821</td>\n",
              "      <td>0.186994</td>\n",
              "      <td>0.020837</td>\n",
              "    </tr>\n",
              "    <tr>\n",
              "      <th>2020-01-07</th>\n",
              "      <td>0.180872</td>\n",
              "      <td>0.185624</td>\n",
              "      <td>0.192602</td>\n",
              "      <td>0.044466</td>\n",
              "    </tr>\n",
              "    <tr>\n",
              "      <th>2020-01-08</th>\n",
              "      <td>0.184959</td>\n",
              "      <td>0.187954</td>\n",
              "      <td>0.195106</td>\n",
              "      <td>0.045071</td>\n",
              "    </tr>\n",
              "    <tr>\n",
              "      <th>...</th>\n",
              "      <td>...</td>\n",
              "      <td>...</td>\n",
              "      <td>...</td>\n",
              "      <td>...</td>\n",
              "    </tr>\n",
              "    <tr>\n",
              "      <th>2022-12-05</th>\n",
              "      <td>0.332558</td>\n",
              "      <td>0.341040</td>\n",
              "      <td>0.355280</td>\n",
              "      <td>0.108517</td>\n",
              "    </tr>\n",
              "    <tr>\n",
              "      <th>2022-12-06</th>\n",
              "      <td>0.333140</td>\n",
              "      <td>0.334682</td>\n",
              "      <td>0.347826</td>\n",
              "      <td>0.073082</td>\n",
              "    </tr>\n",
              "    <tr>\n",
              "      <th>2022-12-07</th>\n",
              "      <td>0.323837</td>\n",
              "      <td>0.327168</td>\n",
              "      <td>0.344099</td>\n",
              "      <td>0.053672</td>\n",
              "    </tr>\n",
              "    <tr>\n",
              "      <th>2022-12-08</th>\n",
              "      <td>0.325000</td>\n",
              "      <td>0.324277</td>\n",
              "      <td>0.340994</td>\n",
              "      <td>0.072870</td>\n",
              "    </tr>\n",
              "    <tr>\n",
              "      <th>2022-12-09</th>\n",
              "      <td>0.326163</td>\n",
              "      <td>0.336416</td>\n",
              "      <td>0.347826</td>\n",
              "      <td>0.126434</td>\n",
              "    </tr>\n",
              "  </tbody>\n",
              "</table>\n",
              "<p>728 rows × 4 columns</p>\n",
              "</div>\n",
              "      <button class=\"colab-df-convert\" onclick=\"convertToInteractive('df-f4340656-96ac-4eb4-9636-cd29a6cbbe41')\"\n",
              "              title=\"Convert this dataframe to an interactive table.\"\n",
              "              style=\"display:none;\">\n",
              "        \n",
              "  <svg xmlns=\"http://www.w3.org/2000/svg\" height=\"24px\"viewBox=\"0 0 24 24\"\n",
              "       width=\"24px\">\n",
              "    <path d=\"M0 0h24v24H0V0z\" fill=\"none\"/>\n",
              "    <path d=\"M18.56 5.44l.94 2.06.94-2.06 2.06-.94-2.06-.94-.94-2.06-.94 2.06-2.06.94zm-11 1L8.5 8.5l.94-2.06 2.06-.94-2.06-.94L8.5 2.5l-.94 2.06-2.06.94zm10 10l.94 2.06.94-2.06 2.06-.94-2.06-.94-.94-2.06-.94 2.06-2.06.94z\"/><path d=\"M17.41 7.96l-1.37-1.37c-.4-.4-.92-.59-1.43-.59-.52 0-1.04.2-1.43.59L10.3 9.45l-7.72 7.72c-.78.78-.78 2.05 0 2.83L4 21.41c.39.39.9.59 1.41.59.51 0 1.02-.2 1.41-.59l7.78-7.78 2.81-2.81c.8-.78.8-2.07 0-2.86zM5.41 20L4 18.59l7.72-7.72 1.47 1.35L5.41 20z\"/>\n",
              "  </svg>\n",
              "      </button>\n",
              "      \n",
              "  <style>\n",
              "    .colab-df-container {\n",
              "      display:flex;\n",
              "      flex-wrap:wrap;\n",
              "      gap: 12px;\n",
              "    }\n",
              "\n",
              "    .colab-df-convert {\n",
              "      background-color: #E8F0FE;\n",
              "      border: none;\n",
              "      border-radius: 50%;\n",
              "      cursor: pointer;\n",
              "      display: none;\n",
              "      fill: #1967D2;\n",
              "      height: 32px;\n",
              "      padding: 0 0 0 0;\n",
              "      width: 32px;\n",
              "    }\n",
              "\n",
              "    .colab-df-convert:hover {\n",
              "      background-color: #E2EBFA;\n",
              "      box-shadow: 0px 1px 2px rgba(60, 64, 67, 0.3), 0px 1px 3px 1px rgba(60, 64, 67, 0.15);\n",
              "      fill: #174EA6;\n",
              "    }\n",
              "\n",
              "    [theme=dark] .colab-df-convert {\n",
              "      background-color: #3B4455;\n",
              "      fill: #D2E3FC;\n",
              "    }\n",
              "\n",
              "    [theme=dark] .colab-df-convert:hover {\n",
              "      background-color: #434B5C;\n",
              "      box-shadow: 0px 1px 3px 1px rgba(0, 0, 0, 0.15);\n",
              "      filter: drop-shadow(0px 1px 2px rgba(0, 0, 0, 0.3));\n",
              "      fill: #FFFFFF;\n",
              "    }\n",
              "  </style>\n",
              "\n",
              "      <script>\n",
              "        const buttonEl =\n",
              "          document.querySelector('#df-f4340656-96ac-4eb4-9636-cd29a6cbbe41 button.colab-df-convert');\n",
              "        buttonEl.style.display =\n",
              "          google.colab.kernel.accessAllowed ? 'block' : 'none';\n",
              "\n",
              "        async function convertToInteractive(key) {\n",
              "          const element = document.querySelector('#df-f4340656-96ac-4eb4-9636-cd29a6cbbe41');\n",
              "          const dataTable =\n",
              "            await google.colab.kernel.invokeFunction('convertToInteractive',\n",
              "                                                     [key], {});\n",
              "          if (!dataTable) return;\n",
              "\n",
              "          const docLinkHtml = 'Like what you see? Visit the ' +\n",
              "            '<a target=\"_blank\" href=https://colab.research.google.com/notebooks/data_table.ipynb>data table notebook</a>'\n",
              "            + ' to learn more about interactive tables.';\n",
              "          element.innerHTML = '';\n",
              "          dataTable['output_type'] = 'display_data';\n",
              "          await google.colab.output.renderOutput(dataTable, element);\n",
              "          const docLink = document.createElement('div');\n",
              "          docLink.innerHTML = docLinkHtml;\n",
              "          element.appendChild(docLink);\n",
              "        }\n",
              "      </script>\n",
              "    </div>\n",
              "  </div>\n",
              "  "
            ]
          },
          "metadata": {},
          "execution_count": 130
        }
      ]
    },
    {
      "cell_type": "code",
      "source": [
        "dfx.describe()"
      ],
      "metadata": {
        "colab": {
          "base_uri": "https://localhost:8080/",
          "height": 300
        },
        "id": "BYyRBaYx9Rp_",
        "outputId": "72758e5d-25cd-4f81-ba92-280b735a0b53"
      },
      "execution_count": 131,
      "outputs": [
        {
          "output_type": "execute_result",
          "data": {
            "text/plain": [
              "             Open        High         Low      Volume\n",
              "count  728.000000  728.000000  728.000000  728.000000\n",
              "mean     0.492679    0.497793    0.518208    0.105926\n",
              "std      0.197967    0.199435    0.208354    0.112371\n",
              "min      0.000000    0.000000    0.000000    0.000000\n",
              "25%      0.349001    0.355723    0.369621    0.044262\n",
              "50%      0.462163    0.468208    0.488696    0.080228\n",
              "75%      0.633721    0.641618    0.660219    0.122243\n",
              "max      1.000000    1.000000    1.000000    1.000000"
            ],
            "text/html": [
              "\n",
              "  <div id=\"df-1a8ca0b9-713b-495c-9dac-0dfeee662e70\">\n",
              "    <div class=\"colab-df-container\">\n",
              "      <div>\n",
              "<style scoped>\n",
              "    .dataframe tbody tr th:only-of-type {\n",
              "        vertical-align: middle;\n",
              "    }\n",
              "\n",
              "    .dataframe tbody tr th {\n",
              "        vertical-align: top;\n",
              "    }\n",
              "\n",
              "    .dataframe thead th {\n",
              "        text-align: right;\n",
              "    }\n",
              "</style>\n",
              "<table border=\"1\" class=\"dataframe\">\n",
              "  <thead>\n",
              "    <tr style=\"text-align: right;\">\n",
              "      <th></th>\n",
              "      <th>Open</th>\n",
              "      <th>High</th>\n",
              "      <th>Low</th>\n",
              "      <th>Volume</th>\n",
              "    </tr>\n",
              "  </thead>\n",
              "  <tbody>\n",
              "    <tr>\n",
              "      <th>count</th>\n",
              "      <td>728.000000</td>\n",
              "      <td>728.000000</td>\n",
              "      <td>728.000000</td>\n",
              "      <td>728.000000</td>\n",
              "    </tr>\n",
              "    <tr>\n",
              "      <th>mean</th>\n",
              "      <td>0.492679</td>\n",
              "      <td>0.497793</td>\n",
              "      <td>0.518208</td>\n",
              "      <td>0.105926</td>\n",
              "    </tr>\n",
              "    <tr>\n",
              "      <th>std</th>\n",
              "      <td>0.197967</td>\n",
              "      <td>0.199435</td>\n",
              "      <td>0.208354</td>\n",
              "      <td>0.112371</td>\n",
              "    </tr>\n",
              "    <tr>\n",
              "      <th>min</th>\n",
              "      <td>0.000000</td>\n",
              "      <td>0.000000</td>\n",
              "      <td>0.000000</td>\n",
              "      <td>0.000000</td>\n",
              "    </tr>\n",
              "    <tr>\n",
              "      <th>25%</th>\n",
              "      <td>0.349001</td>\n",
              "      <td>0.355723</td>\n",
              "      <td>0.369621</td>\n",
              "      <td>0.044262</td>\n",
              "    </tr>\n",
              "    <tr>\n",
              "      <th>50%</th>\n",
              "      <td>0.462163</td>\n",
              "      <td>0.468208</td>\n",
              "      <td>0.488696</td>\n",
              "      <td>0.080228</td>\n",
              "    </tr>\n",
              "    <tr>\n",
              "      <th>75%</th>\n",
              "      <td>0.633721</td>\n",
              "      <td>0.641618</td>\n",
              "      <td>0.660219</td>\n",
              "      <td>0.122243</td>\n",
              "    </tr>\n",
              "    <tr>\n",
              "      <th>max</th>\n",
              "      <td>1.000000</td>\n",
              "      <td>1.000000</td>\n",
              "      <td>1.000000</td>\n",
              "      <td>1.000000</td>\n",
              "    </tr>\n",
              "  </tbody>\n",
              "</table>\n",
              "</div>\n",
              "      <button class=\"colab-df-convert\" onclick=\"convertToInteractive('df-1a8ca0b9-713b-495c-9dac-0dfeee662e70')\"\n",
              "              title=\"Convert this dataframe to an interactive table.\"\n",
              "              style=\"display:none;\">\n",
              "        \n",
              "  <svg xmlns=\"http://www.w3.org/2000/svg\" height=\"24px\"viewBox=\"0 0 24 24\"\n",
              "       width=\"24px\">\n",
              "    <path d=\"M0 0h24v24H0V0z\" fill=\"none\"/>\n",
              "    <path d=\"M18.56 5.44l.94 2.06.94-2.06 2.06-.94-2.06-.94-.94-2.06-.94 2.06-2.06.94zm-11 1L8.5 8.5l.94-2.06 2.06-.94-2.06-.94L8.5 2.5l-.94 2.06-2.06.94zm10 10l.94 2.06.94-2.06 2.06-.94-2.06-.94-.94-2.06-.94 2.06-2.06.94z\"/><path d=\"M17.41 7.96l-1.37-1.37c-.4-.4-.92-.59-1.43-.59-.52 0-1.04.2-1.43.59L10.3 9.45l-7.72 7.72c-.78.78-.78 2.05 0 2.83L4 21.41c.39.39.9.59 1.41.59.51 0 1.02-.2 1.41-.59l7.78-7.78 2.81-2.81c.8-.78.8-2.07 0-2.86zM5.41 20L4 18.59l7.72-7.72 1.47 1.35L5.41 20z\"/>\n",
              "  </svg>\n",
              "      </button>\n",
              "      \n",
              "  <style>\n",
              "    .colab-df-container {\n",
              "      display:flex;\n",
              "      flex-wrap:wrap;\n",
              "      gap: 12px;\n",
              "    }\n",
              "\n",
              "    .colab-df-convert {\n",
              "      background-color: #E8F0FE;\n",
              "      border: none;\n",
              "      border-radius: 50%;\n",
              "      cursor: pointer;\n",
              "      display: none;\n",
              "      fill: #1967D2;\n",
              "      height: 32px;\n",
              "      padding: 0 0 0 0;\n",
              "      width: 32px;\n",
              "    }\n",
              "\n",
              "    .colab-df-convert:hover {\n",
              "      background-color: #E2EBFA;\n",
              "      box-shadow: 0px 1px 2px rgba(60, 64, 67, 0.3), 0px 1px 3px 1px rgba(60, 64, 67, 0.15);\n",
              "      fill: #174EA6;\n",
              "    }\n",
              "\n",
              "    [theme=dark] .colab-df-convert {\n",
              "      background-color: #3B4455;\n",
              "      fill: #D2E3FC;\n",
              "    }\n",
              "\n",
              "    [theme=dark] .colab-df-convert:hover {\n",
              "      background-color: #434B5C;\n",
              "      box-shadow: 0px 1px 3px 1px rgba(0, 0, 0, 0.15);\n",
              "      filter: drop-shadow(0px 1px 2px rgba(0, 0, 0, 0.3));\n",
              "      fill: #FFFFFF;\n",
              "    }\n",
              "  </style>\n",
              "\n",
              "      <script>\n",
              "        const buttonEl =\n",
              "          document.querySelector('#df-1a8ca0b9-713b-495c-9dac-0dfeee662e70 button.colab-df-convert');\n",
              "        buttonEl.style.display =\n",
              "          google.colab.kernel.accessAllowed ? 'block' : 'none';\n",
              "\n",
              "        async function convertToInteractive(key) {\n",
              "          const element = document.querySelector('#df-1a8ca0b9-713b-495c-9dac-0dfeee662e70');\n",
              "          const dataTable =\n",
              "            await google.colab.kernel.invokeFunction('convertToInteractive',\n",
              "                                                     [key], {});\n",
              "          if (!dataTable) return;\n",
              "\n",
              "          const docLinkHtml = 'Like what you see? Visit the ' +\n",
              "            '<a target=\"_blank\" href=https://colab.research.google.com/notebooks/data_table.ipynb>data table notebook</a>'\n",
              "            + ' to learn more about interactive tables.';\n",
              "          element.innerHTML = '';\n",
              "          dataTable['output_type'] = 'display_data';\n",
              "          await google.colab.output.renderOutput(dataTable, element);\n",
              "          const docLink = document.createElement('div');\n",
              "          docLink.innerHTML = docLinkHtml;\n",
              "          element.appendChild(docLink);\n",
              "        }\n",
              "      </script>\n",
              "    </div>\n",
              "  </div>\n",
              "  "
            ]
          },
          "metadata": {},
          "execution_count": 131
        }
      ]
    },
    {
      "cell_type": "code",
      "source": [
        "dfy.head()"
      ],
      "metadata": {
        "colab": {
          "base_uri": "https://localhost:8080/",
          "height": 238
        },
        "id": "06qNPrwr9WFX",
        "outputId": "abf9665d-c33e-40f9-d5ff-a08fbc96dd67"
      },
      "execution_count": 132,
      "outputs": [
        {
          "output_type": "execute_result",
          "data": {
            "text/plain": [
              "               Close\n",
              "Date                \n",
              "2020-01-02  0.026037\n",
              "2020-01-03  0.026037\n",
              "2020-01-06  0.028849\n",
              "2020-01-07  0.036591\n",
              "2020-01-08  0.035890"
            ],
            "text/html": [
              "\n",
              "  <div id=\"df-7dee9265-d0a7-4baf-8fc4-a324b12fdc9c\">\n",
              "    <div class=\"colab-df-container\">\n",
              "      <div>\n",
              "<style scoped>\n",
              "    .dataframe tbody tr th:only-of-type {\n",
              "        vertical-align: middle;\n",
              "    }\n",
              "\n",
              "    .dataframe tbody tr th {\n",
              "        vertical-align: top;\n",
              "    }\n",
              "\n",
              "    .dataframe thead th {\n",
              "        text-align: right;\n",
              "    }\n",
              "</style>\n",
              "<table border=\"1\" class=\"dataframe\">\n",
              "  <thead>\n",
              "    <tr style=\"text-align: right;\">\n",
              "      <th></th>\n",
              "      <th>Close</th>\n",
              "    </tr>\n",
              "    <tr>\n",
              "      <th>Date</th>\n",
              "      <th></th>\n",
              "    </tr>\n",
              "  </thead>\n",
              "  <tbody>\n",
              "    <tr>\n",
              "      <th>2020-01-02</th>\n",
              "      <td>0.026037</td>\n",
              "    </tr>\n",
              "    <tr>\n",
              "      <th>2020-01-03</th>\n",
              "      <td>0.026037</td>\n",
              "    </tr>\n",
              "    <tr>\n",
              "      <th>2020-01-06</th>\n",
              "      <td>0.028849</td>\n",
              "    </tr>\n",
              "    <tr>\n",
              "      <th>2020-01-07</th>\n",
              "      <td>0.036591</td>\n",
              "    </tr>\n",
              "    <tr>\n",
              "      <th>2020-01-08</th>\n",
              "      <td>0.035890</td>\n",
              "    </tr>\n",
              "  </tbody>\n",
              "</table>\n",
              "</div>\n",
              "      <button class=\"colab-df-convert\" onclick=\"convertToInteractive('df-7dee9265-d0a7-4baf-8fc4-a324b12fdc9c')\"\n",
              "              title=\"Convert this dataframe to an interactive table.\"\n",
              "              style=\"display:none;\">\n",
              "        \n",
              "  <svg xmlns=\"http://www.w3.org/2000/svg\" height=\"24px\"viewBox=\"0 0 24 24\"\n",
              "       width=\"24px\">\n",
              "    <path d=\"M0 0h24v24H0V0z\" fill=\"none\"/>\n",
              "    <path d=\"M18.56 5.44l.94 2.06.94-2.06 2.06-.94-2.06-.94-.94-2.06-.94 2.06-2.06.94zm-11 1L8.5 8.5l.94-2.06 2.06-.94-2.06-.94L8.5 2.5l-.94 2.06-2.06.94zm10 10l.94 2.06.94-2.06 2.06-.94-2.06-.94-.94-2.06-.94 2.06-2.06.94z\"/><path d=\"M17.41 7.96l-1.37-1.37c-.4-.4-.92-.59-1.43-.59-.52 0-1.04.2-1.43.59L10.3 9.45l-7.72 7.72c-.78.78-.78 2.05 0 2.83L4 21.41c.39.39.9.59 1.41.59.51 0 1.02-.2 1.41-.59l7.78-7.78 2.81-2.81c.8-.78.8-2.07 0-2.86zM5.41 20L4 18.59l7.72-7.72 1.47 1.35L5.41 20z\"/>\n",
              "  </svg>\n",
              "      </button>\n",
              "      \n",
              "  <style>\n",
              "    .colab-df-container {\n",
              "      display:flex;\n",
              "      flex-wrap:wrap;\n",
              "      gap: 12px;\n",
              "    }\n",
              "\n",
              "    .colab-df-convert {\n",
              "      background-color: #E8F0FE;\n",
              "      border: none;\n",
              "      border-radius: 50%;\n",
              "      cursor: pointer;\n",
              "      display: none;\n",
              "      fill: #1967D2;\n",
              "      height: 32px;\n",
              "      padding: 0 0 0 0;\n",
              "      width: 32px;\n",
              "    }\n",
              "\n",
              "    .colab-df-convert:hover {\n",
              "      background-color: #E2EBFA;\n",
              "      box-shadow: 0px 1px 2px rgba(60, 64, 67, 0.3), 0px 1px 3px 1px rgba(60, 64, 67, 0.15);\n",
              "      fill: #174EA6;\n",
              "    }\n",
              "\n",
              "    [theme=dark] .colab-df-convert {\n",
              "      background-color: #3B4455;\n",
              "      fill: #D2E3FC;\n",
              "    }\n",
              "\n",
              "    [theme=dark] .colab-df-convert:hover {\n",
              "      background-color: #434B5C;\n",
              "      box-shadow: 0px 1px 3px 1px rgba(0, 0, 0, 0.15);\n",
              "      filter: drop-shadow(0px 1px 2px rgba(0, 0, 0, 0.3));\n",
              "      fill: #FFFFFF;\n",
              "    }\n",
              "  </style>\n",
              "\n",
              "      <script>\n",
              "        const buttonEl =\n",
              "          document.querySelector('#df-7dee9265-d0a7-4baf-8fc4-a324b12fdc9c button.colab-df-convert');\n",
              "        buttonEl.style.display =\n",
              "          google.colab.kernel.accessAllowed ? 'block' : 'none';\n",
              "\n",
              "        async function convertToInteractive(key) {\n",
              "          const element = document.querySelector('#df-7dee9265-d0a7-4baf-8fc4-a324b12fdc9c');\n",
              "          const dataTable =\n",
              "            await google.colab.kernel.invokeFunction('convertToInteractive',\n",
              "                                                     [key], {});\n",
              "          if (!dataTable) return;\n",
              "\n",
              "          const docLinkHtml = 'Like what you see? Visit the ' +\n",
              "            '<a target=\"_blank\" href=https://colab.research.google.com/notebooks/data_table.ipynb>data table notebook</a>'\n",
              "            + ' to learn more about interactive tables.';\n",
              "          element.innerHTML = '';\n",
              "          dataTable['output_type'] = 'display_data';\n",
              "          await google.colab.output.renderOutput(dataTable, element);\n",
              "          const docLink = document.createElement('div');\n",
              "          docLink.innerHTML = docLinkHtml;\n",
              "          element.appendChild(docLink);\n",
              "        }\n",
              "      </script>\n",
              "    </div>\n",
              "  </div>\n",
              "  "
            ]
          },
          "metadata": {},
          "execution_count": 132
        }
      ]
    },
    {
      "cell_type": "code",
      "source": [
        "# 두 데이터를 리스트 형태로 저장\n",
        "X = dfx.values.tolist()\n",
        "y = dfy.values.tolist()"
      ],
      "metadata": {
        "id": "Qcx6YRct9Y-h"
      },
      "execution_count": 133,
      "outputs": []
    },
    {
      "cell_type": "code",
      "source": [
        "X[:5]"
      ],
      "metadata": {
        "colab": {
          "base_uri": "https://localhost:8080/"
        },
        "id": "NSFcw6yA9byk",
        "outputId": "95fd24e9-ce87-43ef-86cc-129baa6e7032"
      },
      "execution_count": 134,
      "outputs": [
        {
          "output_type": "execute_result",
          "data": {
            "text/plain": [
              "[[0.17970348837198855,\n",
              "  0.1792485549131912,\n",
              "  0.18949068322969598,\n",
              "  0.012757084517146874],\n",
              " [0.17912790697664005,\n",
              "  0.1798323699420926,\n",
              "  0.188248447204852,\n",
              "  0.01666290203178077],\n",
              " [0.17561627906966534,\n",
              "  0.17982080924845098,\n",
              "  0.18699378881975964,\n",
              "  0.020836830703839838],\n",
              " [0.18087209302315066,\n",
              "  0.1856242774565401,\n",
              "  0.19260248447193007,\n",
              "  0.04446570093020682],\n",
              " [0.18495930232547386,\n",
              "  0.18795375722532487,\n",
              "  0.19510559006199063,\n",
              "  0.045070776899974296]]"
            ]
          },
          "metadata": {},
          "execution_count": 134
        }
      ]
    },
    {
      "cell_type": "code",
      "source": [
        "y[:5]"
      ],
      "metadata": {
        "colab": {
          "base_uri": "https://localhost:8080/"
        },
        "id": "2uW9M9-R9e7a",
        "outputId": "27e7521e-be4b-4fb2-e3ca-523369eb46a7"
      },
      "execution_count": 135,
      "outputs": [
        {
          "output_type": "execute_result",
          "data": {
            "text/plain": [
              "[[0.026037137808177867],\n",
              " [0.026037137808177867],\n",
              " [0.028849120641756997],\n",
              " [0.03659083896662324],\n",
              " [0.035889596364733184]]"
            ]
          },
          "metadata": {},
          "execution_count": 135
        }
      ]
    },
    {
      "cell_type": "code",
      "source": [
        "window_size = 10\n",
        "\n",
        "# 공백 리스트 생성\n",
        "data_X = []\n",
        "data_y = []\n",
        "for i in range(len(y) - window_size): # 데이터의 길이만큼 반복\n",
        "    _X = X[i : i + window_size] # 다음 날 종가(i+windows_size)는 포함되지 않음\n",
        "    _y = y[i + window_size]     # 다음 날 종가\n",
        "    data_X.append(_X)\n",
        "    data_y.append(_y)\n",
        "print(_X, \"->\", _y)"
      ],
      "metadata": {
        "colab": {
          "base_uri": "https://localhost:8080/"
        },
        "id": "wiBQKU3R9irm",
        "outputId": "c178e218-59dd-42d7-f697-12518d4e7903"
      },
      "execution_count": 136,
      "outputs": [
        {
          "output_type": "stream",
          "name": "stdout",
          "text": [
            "[[0.32674418604632166, 0.3312138728321785, 0.3453416149066178, 0.07000633178422275], [0.32441860465097416, 0.3225433526009696, 0.3385093167699761, 0.07227209863611508], [0.3151162790695842, 0.324855491329292, 0.3360248447202882, 0.0719105772550706], [0.32325581395330044, 0.32601156069345316, 0.34223602484450794, 0.09663247940688215], [0.3441860465114278, 0.3445086705200321, 0.35838509316747924, 0.1532507181208628], [0.3366279069765485, 0.3369942196529844, 0.3534161490681035, 0.061707164188393435], [0.3325581395346904, 0.34104046242754854, 0.3552795031053694, 0.1085170118805097], [0.33313953488352727, 0.334682080924662, 0.3478260869563057, 0.07308156570141672], [0.32383720930213733, 0.32716763005761434, 0.34409937888177383, 0.053672085553391514], [0.32499999999981105, 0.3242774566472114, 0.34099378881966397, 0.0728701886854759]] -> [0.2188157414937738]\n"
          ]
        }
      ]
    },
    {
      "cell_type": "code",
      "source": [
        "# 10일간의 OHLV 데이터\n",
        "data_X[0]"
      ],
      "metadata": {
        "colab": {
          "base_uri": "https://localhost:8080/"
        },
        "id": "Nb_G2kCk9lup",
        "outputId": "02278ceb-7a39-4046-b0d3-f9a6c60dd576"
      },
      "execution_count": 137,
      "outputs": [
        {
          "output_type": "execute_result",
          "data": {
            "text/plain": [
              "[[0.17970348837198855,\n",
              "  0.1792485549131912,\n",
              "  0.18949068322969598,\n",
              "  0.012757084517146874],\n",
              " [0.17912790697664005,\n",
              "  0.1798323699420926,\n",
              "  0.188248447204852,\n",
              "  0.01666290203178077],\n",
              " [0.17561627906966534,\n",
              "  0.17982080924845098,\n",
              "  0.18699378881975964,\n",
              "  0.020836830703839838],\n",
              " [0.18087209302315066,\n",
              "  0.1856242774565401,\n",
              "  0.19260248447193007,\n",
              "  0.04446570093020682],\n",
              " [0.18495930232547386,\n",
              "  0.18795375722532487,\n",
              "  0.19510559006199063,\n",
              "  0.045070776899974296],\n",
              " [0.19079069767430767,\n",
              "  0.191999999999889,\n",
              "  0.20257763975142698,\n",
              "  0.04648383807313895],\n",
              " [0.19254651162779504,\n",
              "  0.1931734104045126,\n",
              "  0.20320496894397316,\n",
              "  0.021270328234528665],\n",
              " [0.19312209302314354,\n",
              "  0.19432369942185299,\n",
              "  0.20569565217378527,\n",
              "  0.025174028803584787],\n",
              " [0.1954534883719794,\n",
              "  0.19547976878601417,\n",
              "  0.20631677018620725,\n",
              "  0.022401835645849282],\n",
              " [0.1948720930231425,\n",
              "  0.19780346820797814,\n",
              "  0.20756521739117542,\n",
              "  0.024457019336392473]]"
            ]
          },
          "metadata": {},
          "execution_count": 137
        }
      ]
    },
    {
      "cell_type": "code",
      "source": [
        "# data_X[0]을 넣었을 때의 정답인 data_y[0]\n",
        "data_y[0]"
      ],
      "metadata": {
        "colab": {
          "base_uri": "https://localhost:8080/"
        },
        "id": "MlPsJIAV9oed",
        "outputId": "515a4be7-564a-4ed8-893b-0af155913ce7"
      },
      "execution_count": 138,
      "outputs": [
        {
          "output_type": "execute_result",
          "data": {
            "text/plain": [
              "[0.05277551821824579]"
            ]
          },
          "metadata": {},
          "execution_count": 138
        }
      ]
    },
    {
      "cell_type": "markdown",
      "source": [
        "### 훈련 데이터와 테스트 데이터 분리"
      ],
      "metadata": {
        "id": "EiGbiLS8CMTt"
      }
    },
    {
      "cell_type": "code",
      "source": [
        "print('전체 데이터 크기 :', len(data_X), len(data_y))"
      ],
      "metadata": {
        "colab": {
          "base_uri": "https://localhost:8080/"
        },
        "id": "mrRBLA819r0c",
        "outputId": "38c76e9e-6f37-4f46-8103-eb9cad0889c7"
      },
      "execution_count": 139,
      "outputs": [
        {
          "output_type": "stream",
          "name": "stdout",
          "text": [
            "전체 데이터 크기 : 718 718\n"
          ]
        }
      ]
    },
    {
      "cell_type": "code",
      "source": [
        "train_size = int(len(data_y) * 0.7)\n",
        "train_X = np.array(data_X[0 : train_size])\n",
        "train_y = np.array(data_y[0 : train_size])\n",
        "\n",
        "test_size = len(data_y) - train_size\n",
        "test_X = np.array(data_X[train_size : len(data_X)])\n",
        "test_y = np.array(data_y[train_size : len(data_y)])\n",
        "\n",
        "print('훈련 데이터 크기 :', train_X.shape, train_y.shape)\n",
        "print('테스트 데이터 크기 :', test_X.shape, test_y.shape)"
      ],
      "metadata": {
        "colab": {
          "base_uri": "https://localhost:8080/"
        },
        "id": "4jZ0__ls9u9c",
        "outputId": "84db8798-e822-441e-ac53-c5b208813733"
      },
      "execution_count": 140,
      "outputs": [
        {
          "output_type": "stream",
          "name": "stdout",
          "text": [
            "훈련 데이터 크기 : (502, 10, 4) (502, 1)\n",
            "테스트 데이터 크기 : (216, 10, 4) (216, 1)\n"
          ]
        }
      ]
    },
    {
      "cell_type": "markdown",
      "source": [
        "### 모델 학습"
      ],
      "metadata": {
        "id": "1IKeCeK6Cx1u"
      }
    },
    {
      "cell_type": "code",
      "source": [
        "from tensorflow.keras import Sequential\n",
        "from tensorflow.keras.layers import Dense, LSTM, Dropout"
      ],
      "metadata": {
        "id": "ufTyv7Hv9xzX"
      },
      "execution_count": 151,
      "outputs": []
    },
    {
      "cell_type": "code",
      "source": [
        "model = Sequential()\n",
        "# input_shape(데이터길이, 입력 차원 숫자(n차원)) : LSTM에 들어갈 데이터 크기\n",
        "model.add(LSTM(units=20, activation='relu', return_sequences=True, input_shape=(10, 4)))\n",
        "# dropout : 모델을 학습시킬 때 오버피팅(overfitting)이 되는 것을 방지하는 방법\n",
        "model.add(Dropout(0.1))\n",
        "model.add(LSTM(units=20, activation='relu'))\n",
        "model.add(Dropout(0.1))\n",
        "model.add(Dense(units=1))\n",
        "model.summary()"
      ],
      "metadata": {
        "colab": {
          "base_uri": "https://localhost:8080/"
        },
        "id": "q0Wynwjh92Vv",
        "outputId": "21dcfa68-5b38-4c8d-da8b-f320918170f8"
      },
      "execution_count": 152,
      "outputs": [
        {
          "output_type": "stream",
          "name": "stdout",
          "text": [
            "Model: \"sequential_7\"\n",
            "_________________________________________________________________\n",
            " Layer (type)                Output Shape              Param #   \n",
            "=================================================================\n",
            " lstm_14 (LSTM)              (None, 10, 20)            2000      \n",
            "                                                                 \n",
            " dropout_14 (Dropout)        (None, 10, 20)            0         \n",
            "                                                                 \n",
            " lstm_15 (LSTM)              (None, 20)                3280      \n",
            "                                                                 \n",
            " dropout_15 (Dropout)        (None, 20)                0         \n",
            "                                                                 \n",
            " dense_7 (Dense)             (None, 1)                 21        \n",
            "                                                                 \n",
            "=================================================================\n",
            "Total params: 5,301\n",
            "Trainable params: 5,301\n",
            "Non-trainable params: 0\n",
            "_________________________________________________________________\n"
          ]
        }
      ]
    },
    {
      "cell_type": "code",
      "source": [
        "model.compile(optimizer='adam', loss='mean_squared_error')\n",
        "model.fit(train_X, train_y, epochs=70, batch_size=30)\n",
        "pred_y = model.predict(test_X)"
      ],
      "metadata": {
        "colab": {
          "base_uri": "https://localhost:8080/"
        },
        "id": "MsCmvt6L95a2",
        "outputId": "a2b7f17e-09f0-43cd-a23a-3c441757ec68"
      },
      "execution_count": 153,
      "outputs": [
        {
          "output_type": "stream",
          "name": "stdout",
          "text": [
            "Epoch 1/70\n",
            "17/17 [==============================] - 4s 10ms/step - loss: 0.2388\n",
            "Epoch 2/70\n",
            "17/17 [==============================] - 0s 10ms/step - loss: 0.0568\n",
            "Epoch 3/70\n",
            "17/17 [==============================] - 0s 11ms/step - loss: 0.0222\n",
            "Epoch 4/70\n",
            "17/17 [==============================] - 0s 11ms/step - loss: 0.0169\n",
            "Epoch 5/70\n",
            "17/17 [==============================] - 0s 11ms/step - loss: 0.0131\n",
            "Epoch 6/70\n",
            "17/17 [==============================] - 0s 12ms/step - loss: 0.0135\n",
            "Epoch 7/70\n",
            "17/17 [==============================] - 0s 10ms/step - loss: 0.0115\n",
            "Epoch 8/70\n",
            "17/17 [==============================] - 0s 10ms/step - loss: 0.0116\n",
            "Epoch 9/70\n",
            "17/17 [==============================] - 0s 11ms/step - loss: 0.0103\n",
            "Epoch 10/70\n",
            "17/17 [==============================] - 0s 10ms/step - loss: 0.0106\n",
            "Epoch 11/70\n",
            "17/17 [==============================] - 0s 11ms/step - loss: 0.0096\n",
            "Epoch 12/70\n",
            "17/17 [==============================] - 0s 11ms/step - loss: 0.0098\n",
            "Epoch 13/70\n",
            "17/17 [==============================] - 0s 11ms/step - loss: 0.0093\n",
            "Epoch 14/70\n",
            "17/17 [==============================] - 0s 11ms/step - loss: 0.0085\n",
            "Epoch 15/70\n",
            "17/17 [==============================] - 0s 11ms/step - loss: 0.0103\n",
            "Epoch 16/70\n",
            "17/17 [==============================] - 0s 11ms/step - loss: 0.0095\n",
            "Epoch 17/70\n",
            "17/17 [==============================] - 0s 11ms/step - loss: 0.0070\n",
            "Epoch 18/70\n",
            "17/17 [==============================] - 0s 10ms/step - loss: 0.0088\n",
            "Epoch 19/70\n",
            "17/17 [==============================] - 0s 10ms/step - loss: 0.0082\n",
            "Epoch 20/70\n",
            "17/17 [==============================] - 0s 10ms/step - loss: 0.0075\n",
            "Epoch 21/70\n",
            "17/17 [==============================] - 0s 11ms/step - loss: 0.0070\n",
            "Epoch 22/70\n",
            "17/17 [==============================] - 0s 11ms/step - loss: 0.0072\n",
            "Epoch 23/70\n",
            "17/17 [==============================] - 0s 11ms/step - loss: 0.0068\n",
            "Epoch 24/70\n",
            "17/17 [==============================] - 0s 11ms/step - loss: 0.0085\n",
            "Epoch 25/70\n",
            "17/17 [==============================] - 0s 12ms/step - loss: 0.0084\n",
            "Epoch 26/70\n",
            "17/17 [==============================] - 0s 10ms/step - loss: 0.0073\n",
            "Epoch 27/70\n",
            "17/17 [==============================] - 0s 11ms/step - loss: 0.0066\n",
            "Epoch 28/70\n",
            "17/17 [==============================] - 0s 10ms/step - loss: 0.0072\n",
            "Epoch 29/70\n",
            "17/17 [==============================] - 0s 11ms/step - loss: 0.0070\n",
            "Epoch 30/70\n",
            "17/17 [==============================] - 0s 11ms/step - loss: 0.0063\n",
            "Epoch 31/70\n",
            "17/17 [==============================] - 0s 11ms/step - loss: 0.0079\n",
            "Epoch 32/70\n",
            "17/17 [==============================] - 0s 11ms/step - loss: 0.0058\n",
            "Epoch 33/70\n",
            "17/17 [==============================] - 0s 12ms/step - loss: 0.0069\n",
            "Epoch 34/70\n",
            "17/17 [==============================] - 0s 12ms/step - loss: 0.0060\n",
            "Epoch 35/70\n",
            "17/17 [==============================] - 0s 13ms/step - loss: 0.0059\n",
            "Epoch 36/70\n",
            "17/17 [==============================] - 0s 12ms/step - loss: 0.0062\n",
            "Epoch 37/70\n",
            "17/17 [==============================] - 0s 12ms/step - loss: 0.0065\n",
            "Epoch 38/70\n",
            "17/17 [==============================] - 0s 11ms/step - loss: 0.0052\n",
            "Epoch 39/70\n",
            "17/17 [==============================] - 0s 11ms/step - loss: 0.0059\n",
            "Epoch 40/70\n",
            "17/17 [==============================] - 0s 10ms/step - loss: 0.0053\n",
            "Epoch 41/70\n",
            "17/17 [==============================] - 0s 10ms/step - loss: 0.0058\n",
            "Epoch 42/70\n",
            "17/17 [==============================] - 0s 11ms/step - loss: 0.0057\n",
            "Epoch 43/70\n",
            "17/17 [==============================] - 0s 13ms/step - loss: 0.0056\n",
            "Epoch 44/70\n",
            "17/17 [==============================] - 0s 11ms/step - loss: 0.0056\n",
            "Epoch 45/70\n",
            "17/17 [==============================] - 0s 10ms/step - loss: 0.0053\n",
            "Epoch 46/70\n",
            "17/17 [==============================] - 0s 10ms/step - loss: 0.0060\n",
            "Epoch 47/70\n",
            "17/17 [==============================] - 0s 11ms/step - loss: 0.0052\n",
            "Epoch 48/70\n",
            "17/17 [==============================] - 0s 11ms/step - loss: 0.0061\n",
            "Epoch 49/70\n",
            "17/17 [==============================] - 0s 11ms/step - loss: 0.0047\n",
            "Epoch 50/70\n",
            "17/17 [==============================] - 0s 11ms/step - loss: 0.0052\n",
            "Epoch 51/70\n",
            "17/17 [==============================] - 0s 10ms/step - loss: 0.0052\n",
            "Epoch 52/70\n",
            "17/17 [==============================] - 0s 10ms/step - loss: 0.0050\n",
            "Epoch 53/70\n",
            "17/17 [==============================] - 0s 12ms/step - loss: 0.0058\n",
            "Epoch 54/70\n",
            "17/17 [==============================] - 0s 13ms/step - loss: 0.0049\n",
            "Epoch 55/70\n",
            "17/17 [==============================] - 0s 12ms/step - loss: 0.0051\n",
            "Epoch 56/70\n",
            "17/17 [==============================] - 0s 12ms/step - loss: 0.0044\n",
            "Epoch 57/70\n",
            "17/17 [==============================] - 0s 12ms/step - loss: 0.0050\n",
            "Epoch 58/70\n",
            "17/17 [==============================] - 0s 10ms/step - loss: 0.0054\n",
            "Epoch 59/70\n",
            "17/17 [==============================] - 0s 10ms/step - loss: 0.0057\n",
            "Epoch 60/70\n",
            "17/17 [==============================] - 0s 10ms/step - loss: 0.0054\n",
            "Epoch 61/70\n",
            "17/17 [==============================] - 0s 11ms/step - loss: 0.0049\n",
            "Epoch 62/70\n",
            "17/17 [==============================] - 0s 10ms/step - loss: 0.0049\n",
            "Epoch 63/70\n",
            "17/17 [==============================] - 0s 12ms/step - loss: 0.0052\n",
            "Epoch 64/70\n",
            "17/17 [==============================] - 0s 12ms/step - loss: 0.0042\n",
            "Epoch 65/70\n",
            "17/17 [==============================] - 0s 13ms/step - loss: 0.0058\n",
            "Epoch 66/70\n",
            "17/17 [==============================] - 0s 13ms/step - loss: 0.0048\n",
            "Epoch 67/70\n",
            "17/17 [==============================] - 0s 13ms/step - loss: 0.0043\n",
            "Epoch 68/70\n",
            "17/17 [==============================] - 0s 11ms/step - loss: 0.0048\n",
            "Epoch 69/70\n",
            "17/17 [==============================] - 0s 11ms/step - loss: 0.0048\n",
            "Epoch 70/70\n",
            "17/17 [==============================] - 0s 10ms/step - loss: 0.0051\n",
            "7/7 [==============================] - 0s 4ms/step\n"
          ]
        }
      ]
    },
    {
      "cell_type": "markdown",
      "source": [
        "### 주가 예측 & 시각화"
      ],
      "metadata": {
        "id": "Lh69DGnOLfVQ"
      }
    },
    {
      "cell_type": "code",
      "source": [
        "pred_y = model.predict(test_X)\n",
        "\n",
        "plt.figure()\n",
        "plt.plot(test_y, color='red', label='stock price')\n",
        "plt.plot(pred_y, color='blue', label='predicted stock price')\n",
        "plt.title('KAKAO stock price prediction')\n",
        "plt.xlabel('time')\n",
        "plt.ylabel('stock price')\n",
        "plt.legend()\n",
        "plt.show()\n",
        "\n",
        "print(\"다음 날 KAKAO 주가 :\", df.Close[-1] * pred_y[-1] / dfy.Close[-1], 'KRW')"
      ],
      "metadata": {
        "colab": {
          "base_uri": "https://localhost:8080/",
          "height": 332
        },
        "id": "-Lw8cJsz9-vx",
        "outputId": "6d2bf34c-74ed-4eec-fdb6-1af788f6edbd"
      },
      "execution_count": 154,
      "outputs": [
        {
          "output_type": "stream",
          "name": "stdout",
          "text": [
            "7/7 [==============================] - 0s 4ms/step\n"
          ]
        },
        {
          "output_type": "display_data",
          "data": {
            "text/plain": [
              "<Figure size 432x288 with 1 Axes>"
            ],
            "image/png": "[encoded data removed]"
          },
          "metadata": {
            "needs_background": "light"
          }
        },
        {
          "output_type": "stream",
          "name": "stdout",
          "text": [
            "다음 날 KAKAO 주가 : [58119.273] KRW\n"
          ]
        }
      ]
    }
  ]
}